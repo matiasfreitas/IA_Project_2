{
 "cells": [
  {
   "attachments": {},
   "cell_type": "markdown",
   "metadata": {},
   "source": [
    "### Cancer Data\n",
    "\n",
    "570 cancer cells and 30 features to determine whether the cancer cells in our data are benign or malignant.\n",
    "\n",
    "Our cancer data contains 2 types of cancers:\n",
    "1. benign cancer (B)\n",
    "2. malignant cancer (M).\n",
    "\n",
    "Features:\n",
    "\n",
    "|Feature|Description|\n",
    "|---|---|\n",
    "|``id``|Identifier field|\n",
    "|``diagnosis``|Cancer diagnosis type (our ``target``)|\n",
    "|``radius_mean``|Visual characteristic of cancer|\n",
    "|``texture_mean``|Visual characteristic of cancer|\n",
    "|``perimeter_mean``|Visual characteristic of cancer|\n",
    "|``area_mean``|Visual characteristic of cancer|\n",
    "|``smoothness_mean``|Visual characteristic of cancer|\n",
    "|``compactness_mean``|Visual characteristic of cancer|\n",
    "|``concavity_mean``|Visual characteristic of cancer|\n",
    "|``concave points_mean``|Visual characteristic of cancer|\n",
    "|``symmetry_mean``|Visual characteristic of cancer|\n",
    "|``fractal_dimension_mean``|Visual characteristic of cancer|\n",
    "|``radius_se``|Visual characteristic of cancer|\n",
    "|``texture_se``|Visual characteristic of cancer|\n",
    "|``perimeter_se``|Visual characteristic of cancer|\n",
    "|``area_se``|Visual characteristic of cancer|\n",
    "|``smoothness_se``|Visual characteristic of cancer|\n",
    "|``compactness_se``|Visual characteristic of cancer|\n",
    "|``concavity_se``|Visual characteristic of cancer|\n",
    "|``concave points_se``|Visual characteristic of cancer|\n",
    "|``symmetry_se``|Visual characteristic of cancer|\n",
    "|``fractal_dimension_se``|Visual characteristic of cancer|\n",
    "|``radius_worst``|Visual characteristic of cancer|\n",
    "|``texture_worst``|Visual characteristic of cancer|\n",
    "|``perimeter_worst``|Visual characteristic of cancer|\n",
    "|``area_worst``|Visual characteristic of cancer|\n",
    "|``smoothness_worst``|Visual characteristic of cancer|\n",
    "|``compactness_worst``|Visual characteristic of cancer|\n",
    "|``concavity_worst``|Visual characteristic of cancer|\n",
    "|``concave points_worst``|Visual characteristic of cancer|\n",
    "|``symmetry_worst``|Visual characteristic of cancer|\n",
    "|``fractal_dimension_worst``|Visual characteristic of cancer|\n",
    "\n"
   ]
  },
  {
   "attachments": {},
   "cell_type": "markdown",
   "metadata": {},
   "source": [
    "#### Index\n",
    "\n",
    "1. Dataset import\n",
    "2. Data processing and analysis\n",
    "3. Model\n",
    "4. Conclusion"
   ]
  },
  {
   "attachments": {},
   "cell_type": "markdown",
   "metadata": {},
   "source": [
    "Libraries:"
   ]
  },
  {
   "cell_type": "code",
   "execution_count": 1,
   "metadata": {
    "ExecuteTime": {
     "start_time": "2023-05-01T10:58:29.087851Z",
     "end_time": "2023-05-01T10:58:29.404783Z"
    }
   },
   "outputs": [],
   "source": [
    "import numpy as np\n",
    "import pandas as pd\n",
    "import matplotlib.pyplot as plt"
   ]
  },
  {
   "attachments": {},
   "cell_type": "markdown",
   "metadata": {},
   "source": [
    "**1. Dataset import**"
   ]
  },
  {
   "cell_type": "code",
   "execution_count": 2,
   "metadata": {
    "ExecuteTime": {
     "start_time": "2023-05-01T10:58:29.406092Z",
     "end_time": "2023-05-01T10:58:29.410429Z"
    }
   },
   "outputs": [],
   "source": [
    "file = pd.read_csv('dataset/Cancer_Data.csv')"
   ]
  },
  {
   "attachments": {},
   "cell_type": "markdown",
   "metadata": {},
   "source": [
    "Checking if import was successful"
   ]
  },
  {
   "cell_type": "code",
   "execution_count": 3,
   "metadata": {
    "ExecuteTime": {
     "start_time": "2023-05-01T10:58:29.410656Z",
     "end_time": "2023-05-01T10:58:29.428748Z"
    }
   },
   "outputs": [
    {
     "data": {
      "text/plain": "         id diagnosis  radius_mean  texture_mean  perimeter_mean  area_mean   \n0    842302         M        17.99         10.38          122.80     1001.0  \\\n1    842517         M        20.57         17.77          132.90     1326.0   \n2  84300903         M        19.69         21.25          130.00     1203.0   \n3  84348301         M        11.42         20.38           77.58      386.1   \n4  84358402         M        20.29         14.34          135.10     1297.0   \n5    843786         M        12.45         15.70           82.57      477.1   \n6    844359         M        18.25         19.98          119.60     1040.0   \n7  84458202         M        13.71         20.83           90.20      577.9   \n8    844981         M        13.00         21.82           87.50      519.8   \n9  84501001         M        12.46         24.04           83.97      475.9   \n\n   smoothness_mean  compactness_mean  concavity_mean  concave points_mean   \n0          0.11840           0.27760         0.30010              0.14710  \\\n1          0.08474           0.07864         0.08690              0.07017   \n2          0.10960           0.15990         0.19740              0.12790   \n3          0.14250           0.28390         0.24140              0.10520   \n4          0.10030           0.13280         0.19800              0.10430   \n5          0.12780           0.17000         0.15780              0.08089   \n6          0.09463           0.10900         0.11270              0.07400   \n7          0.11890           0.16450         0.09366              0.05985   \n8          0.12730           0.19320         0.18590              0.09353   \n9          0.11860           0.23960         0.22730              0.08543   \n\n   ...  texture_worst  perimeter_worst  area_worst  smoothness_worst   \n0  ...          17.33           184.60      2019.0            0.1622  \\\n1  ...          23.41           158.80      1956.0            0.1238   \n2  ...          25.53           152.50      1709.0            0.1444   \n3  ...          26.50            98.87       567.7            0.2098   \n4  ...          16.67           152.20      1575.0            0.1374   \n5  ...          23.75           103.40       741.6            0.1791   \n6  ...          27.66           153.20      1606.0            0.1442   \n7  ...          28.14           110.60       897.0            0.1654   \n8  ...          30.73           106.20       739.3            0.1703   \n9  ...          40.68            97.65       711.4            0.1853   \n\n   compactness_worst  concavity_worst  concave points_worst  symmetry_worst   \n0             0.6656           0.7119                0.2654          0.4601  \\\n1             0.1866           0.2416                0.1860          0.2750   \n2             0.4245           0.4504                0.2430          0.3613   \n3             0.8663           0.6869                0.2575          0.6638   \n4             0.2050           0.4000                0.1625          0.2364   \n5             0.5249           0.5355                0.1741          0.3985   \n6             0.2576           0.3784                0.1932          0.3063   \n7             0.3682           0.2678                0.1556          0.3196   \n8             0.5401           0.5390                0.2060          0.4378   \n9             1.0580           1.1050                0.2210          0.4366   \n\n   fractal_dimension_worst  Unnamed: 32  \n0                  0.11890          NaN  \n1                  0.08902          NaN  \n2                  0.08758          NaN  \n3                  0.17300          NaN  \n4                  0.07678          NaN  \n5                  0.12440          NaN  \n6                  0.08368          NaN  \n7                  0.11510          NaN  \n8                  0.10720          NaN  \n9                  0.20750          NaN  \n\n[10 rows x 33 columns]",
      "text/html": "<div>\n<style scoped>\n    .dataframe tbody tr th:only-of-type {\n        vertical-align: middle;\n    }\n\n    .dataframe tbody tr th {\n        vertical-align: top;\n    }\n\n    .dataframe thead th {\n        text-align: right;\n    }\n</style>\n<table border=\"1\" class=\"dataframe\">\n  <thead>\n    <tr style=\"text-align: right;\">\n      <th></th>\n      <th>id</th>\n      <th>diagnosis</th>\n      <th>radius_mean</th>\n      <th>texture_mean</th>\n      <th>perimeter_mean</th>\n      <th>area_mean</th>\n      <th>smoothness_mean</th>\n      <th>compactness_mean</th>\n      <th>concavity_mean</th>\n      <th>concave points_mean</th>\n      <th>...</th>\n      <th>texture_worst</th>\n      <th>perimeter_worst</th>\n      <th>area_worst</th>\n      <th>smoothness_worst</th>\n      <th>compactness_worst</th>\n      <th>concavity_worst</th>\n      <th>concave points_worst</th>\n      <th>symmetry_worst</th>\n      <th>fractal_dimension_worst</th>\n      <th>Unnamed: 32</th>\n    </tr>\n  </thead>\n  <tbody>\n    <tr>\n      <th>0</th>\n      <td>842302</td>\n      <td>M</td>\n      <td>17.99</td>\n      <td>10.38</td>\n      <td>122.80</td>\n      <td>1001.0</td>\n      <td>0.11840</td>\n      <td>0.27760</td>\n      <td>0.30010</td>\n      <td>0.14710</td>\n      <td>...</td>\n      <td>17.33</td>\n      <td>184.60</td>\n      <td>2019.0</td>\n      <td>0.1622</td>\n      <td>0.6656</td>\n      <td>0.7119</td>\n      <td>0.2654</td>\n      <td>0.4601</td>\n      <td>0.11890</td>\n      <td>NaN</td>\n    </tr>\n    <tr>\n      <th>1</th>\n      <td>842517</td>\n      <td>M</td>\n      <td>20.57</td>\n      <td>17.77</td>\n      <td>132.90</td>\n      <td>1326.0</td>\n      <td>0.08474</td>\n      <td>0.07864</td>\n      <td>0.08690</td>\n      <td>0.07017</td>\n      <td>...</td>\n      <td>23.41</td>\n      <td>158.80</td>\n      <td>1956.0</td>\n      <td>0.1238</td>\n      <td>0.1866</td>\n      <td>0.2416</td>\n      <td>0.1860</td>\n      <td>0.2750</td>\n      <td>0.08902</td>\n      <td>NaN</td>\n    </tr>\n    <tr>\n      <th>2</th>\n      <td>84300903</td>\n      <td>M</td>\n      <td>19.69</td>\n      <td>21.25</td>\n      <td>130.00</td>\n      <td>1203.0</td>\n      <td>0.10960</td>\n      <td>0.15990</td>\n      <td>0.19740</td>\n      <td>0.12790</td>\n      <td>...</td>\n      <td>25.53</td>\n      <td>152.50</td>\n      <td>1709.0</td>\n      <td>0.1444</td>\n      <td>0.4245</td>\n      <td>0.4504</td>\n      <td>0.2430</td>\n      <td>0.3613</td>\n      <td>0.08758</td>\n      <td>NaN</td>\n    </tr>\n    <tr>\n      <th>3</th>\n      <td>84348301</td>\n      <td>M</td>\n      <td>11.42</td>\n      <td>20.38</td>\n      <td>77.58</td>\n      <td>386.1</td>\n      <td>0.14250</td>\n      <td>0.28390</td>\n      <td>0.24140</td>\n      <td>0.10520</td>\n      <td>...</td>\n      <td>26.50</td>\n      <td>98.87</td>\n      <td>567.7</td>\n      <td>0.2098</td>\n      <td>0.8663</td>\n      <td>0.6869</td>\n      <td>0.2575</td>\n      <td>0.6638</td>\n      <td>0.17300</td>\n      <td>NaN</td>\n    </tr>\n    <tr>\n      <th>4</th>\n      <td>84358402</td>\n      <td>M</td>\n      <td>20.29</td>\n      <td>14.34</td>\n      <td>135.10</td>\n      <td>1297.0</td>\n      <td>0.10030</td>\n      <td>0.13280</td>\n      <td>0.19800</td>\n      <td>0.10430</td>\n      <td>...</td>\n      <td>16.67</td>\n      <td>152.20</td>\n      <td>1575.0</td>\n      <td>0.1374</td>\n      <td>0.2050</td>\n      <td>0.4000</td>\n      <td>0.1625</td>\n      <td>0.2364</td>\n      <td>0.07678</td>\n      <td>NaN</td>\n    </tr>\n    <tr>\n      <th>5</th>\n      <td>843786</td>\n      <td>M</td>\n      <td>12.45</td>\n      <td>15.70</td>\n      <td>82.57</td>\n      <td>477.1</td>\n      <td>0.12780</td>\n      <td>0.17000</td>\n      <td>0.15780</td>\n      <td>0.08089</td>\n      <td>...</td>\n      <td>23.75</td>\n      <td>103.40</td>\n      <td>741.6</td>\n      <td>0.1791</td>\n      <td>0.5249</td>\n      <td>0.5355</td>\n      <td>0.1741</td>\n      <td>0.3985</td>\n      <td>0.12440</td>\n      <td>NaN</td>\n    </tr>\n    <tr>\n      <th>6</th>\n      <td>844359</td>\n      <td>M</td>\n      <td>18.25</td>\n      <td>19.98</td>\n      <td>119.60</td>\n      <td>1040.0</td>\n      <td>0.09463</td>\n      <td>0.10900</td>\n      <td>0.11270</td>\n      <td>0.07400</td>\n      <td>...</td>\n      <td>27.66</td>\n      <td>153.20</td>\n      <td>1606.0</td>\n      <td>0.1442</td>\n      <td>0.2576</td>\n      <td>0.3784</td>\n      <td>0.1932</td>\n      <td>0.3063</td>\n      <td>0.08368</td>\n      <td>NaN</td>\n    </tr>\n    <tr>\n      <th>7</th>\n      <td>84458202</td>\n      <td>M</td>\n      <td>13.71</td>\n      <td>20.83</td>\n      <td>90.20</td>\n      <td>577.9</td>\n      <td>0.11890</td>\n      <td>0.16450</td>\n      <td>0.09366</td>\n      <td>0.05985</td>\n      <td>...</td>\n      <td>28.14</td>\n      <td>110.60</td>\n      <td>897.0</td>\n      <td>0.1654</td>\n      <td>0.3682</td>\n      <td>0.2678</td>\n      <td>0.1556</td>\n      <td>0.3196</td>\n      <td>0.11510</td>\n      <td>NaN</td>\n    </tr>\n    <tr>\n      <th>8</th>\n      <td>844981</td>\n      <td>M</td>\n      <td>13.00</td>\n      <td>21.82</td>\n      <td>87.50</td>\n      <td>519.8</td>\n      <td>0.12730</td>\n      <td>0.19320</td>\n      <td>0.18590</td>\n      <td>0.09353</td>\n      <td>...</td>\n      <td>30.73</td>\n      <td>106.20</td>\n      <td>739.3</td>\n      <td>0.1703</td>\n      <td>0.5401</td>\n      <td>0.5390</td>\n      <td>0.2060</td>\n      <td>0.4378</td>\n      <td>0.10720</td>\n      <td>NaN</td>\n    </tr>\n    <tr>\n      <th>9</th>\n      <td>84501001</td>\n      <td>M</td>\n      <td>12.46</td>\n      <td>24.04</td>\n      <td>83.97</td>\n      <td>475.9</td>\n      <td>0.11860</td>\n      <td>0.23960</td>\n      <td>0.22730</td>\n      <td>0.08543</td>\n      <td>...</td>\n      <td>40.68</td>\n      <td>97.65</td>\n      <td>711.4</td>\n      <td>0.1853</td>\n      <td>1.0580</td>\n      <td>1.1050</td>\n      <td>0.2210</td>\n      <td>0.4366</td>\n      <td>0.20750</td>\n      <td>NaN</td>\n    </tr>\n  </tbody>\n</table>\n<p>10 rows × 33 columns</p>\n</div>"
     },
     "execution_count": 3,
     "metadata": {},
     "output_type": "execute_result"
    }
   ],
   "source": [
    "file.head(10)"
   ]
  },
  {
   "attachments": {},
   "cell_type": "markdown",
   "metadata": {},
   "source": [
    "Columns"
   ]
  },
  {
   "cell_type": "code",
   "execution_count": 4,
   "metadata": {
    "ExecuteTime": {
     "start_time": "2023-05-01T10:58:29.425416Z",
     "end_time": "2023-05-01T10:58:29.435983Z"
    }
   },
   "outputs": [
    {
     "name": "stdout",
     "output_type": "stream",
     "text": [
      "<class 'pandas.core.frame.DataFrame'>\n",
      "RangeIndex: 569 entries, 0 to 568\n",
      "Data columns (total 33 columns):\n",
      " #   Column                   Non-Null Count  Dtype  \n",
      "---  ------                   --------------  -----  \n",
      " 0   id                       569 non-null    int64  \n",
      " 1   diagnosis                569 non-null    object \n",
      " 2   radius_mean              569 non-null    float64\n",
      " 3   texture_mean             569 non-null    float64\n",
      " 4   perimeter_mean           569 non-null    float64\n",
      " 5   area_mean                569 non-null    float64\n",
      " 6   smoothness_mean          569 non-null    float64\n",
      " 7   compactness_mean         569 non-null    float64\n",
      " 8   concavity_mean           569 non-null    float64\n",
      " 9   concave points_mean      569 non-null    float64\n",
      " 10  symmetry_mean            569 non-null    float64\n",
      " 11  fractal_dimension_mean   569 non-null    float64\n",
      " 12  radius_se                569 non-null    float64\n",
      " 13  texture_se               569 non-null    float64\n",
      " 14  perimeter_se             569 non-null    float64\n",
      " 15  area_se                  569 non-null    float64\n",
      " 16  smoothness_se            569 non-null    float64\n",
      " 17  compactness_se           569 non-null    float64\n",
      " 18  concavity_se             569 non-null    float64\n",
      " 19  concave points_se        569 non-null    float64\n",
      " 20  symmetry_se              569 non-null    float64\n",
      " 21  fractal_dimension_se     569 non-null    float64\n",
      " 22  radius_worst             569 non-null    float64\n",
      " 23  texture_worst            569 non-null    float64\n",
      " 24  perimeter_worst          569 non-null    float64\n",
      " 25  area_worst               569 non-null    float64\n",
      " 26  smoothness_worst         569 non-null    float64\n",
      " 27  compactness_worst        569 non-null    float64\n",
      " 28  concavity_worst          569 non-null    float64\n",
      " 29  concave points_worst     569 non-null    float64\n",
      " 30  symmetry_worst           569 non-null    float64\n",
      " 31  fractal_dimension_worst  569 non-null    float64\n",
      " 32  Unnamed: 32              0 non-null      float64\n",
      "dtypes: float64(31), int64(1), object(1)\n",
      "memory usage: 146.8+ KB\n"
     ]
    }
   ],
   "source": [
    "file.info()"
   ]
  },
  {
   "cell_type": "code",
   "execution_count": 5,
   "metadata": {
    "ExecuteTime": {
     "start_time": "2023-05-01T10:58:29.433495Z",
     "end_time": "2023-05-01T10:58:29.539984Z"
    }
   },
   "outputs": [
    {
     "data": {
      "text/plain": "                 id  radius_mean  texture_mean  perimeter_mean    area_mean   \ncount  5.690000e+02   569.000000    569.000000      569.000000   569.000000  \\\nmean   3.037183e+07    14.127292     19.289649       91.969033   654.889104   \nstd    1.250206e+08     3.524049      4.301036       24.298981   351.914129   \nmin    8.670000e+03     6.981000      9.710000       43.790000   143.500000   \n25%    8.692180e+05    11.700000     16.170000       75.170000   420.300000   \n50%    9.060240e+05    13.370000     18.840000       86.240000   551.100000   \n75%    8.813129e+06    15.780000     21.800000      104.100000   782.700000   \nmax    9.113205e+08    28.110000     39.280000      188.500000  2501.000000   \n\n       smoothness_mean  compactness_mean  concavity_mean  concave points_mean   \ncount       569.000000        569.000000      569.000000           569.000000  \\\nmean          0.096360          0.104341        0.088799             0.048919   \nstd           0.014064          0.052813        0.079720             0.038803   \nmin           0.052630          0.019380        0.000000             0.000000   \n25%           0.086370          0.064920        0.029560             0.020310   \n50%           0.095870          0.092630        0.061540             0.033500   \n75%           0.105300          0.130400        0.130700             0.074000   \nmax           0.163400          0.345400        0.426800             0.201200   \n\n       symmetry_mean  ...  texture_worst  perimeter_worst   area_worst   \ncount     569.000000  ...     569.000000       569.000000   569.000000  \\\nmean        0.181162  ...      25.677223       107.261213   880.583128   \nstd         0.027414  ...       6.146258        33.602542   569.356993   \nmin         0.106000  ...      12.020000        50.410000   185.200000   \n25%         0.161900  ...      21.080000        84.110000   515.300000   \n50%         0.179200  ...      25.410000        97.660000   686.500000   \n75%         0.195700  ...      29.720000       125.400000  1084.000000   \nmax         0.304000  ...      49.540000       251.200000  4254.000000   \n\n       smoothness_worst  compactness_worst  concavity_worst   \ncount        569.000000         569.000000       569.000000  \\\nmean           0.132369           0.254265         0.272188   \nstd            0.022832           0.157336         0.208624   \nmin            0.071170           0.027290         0.000000   \n25%            0.116600           0.147200         0.114500   \n50%            0.131300           0.211900         0.226700   \n75%            0.146000           0.339100         0.382900   \nmax            0.222600           1.058000         1.252000   \n\n       concave points_worst  symmetry_worst  fractal_dimension_worst   \ncount            569.000000      569.000000               569.000000  \\\nmean               0.114606        0.290076                 0.083946   \nstd                0.065732        0.061867                 0.018061   \nmin                0.000000        0.156500                 0.055040   \n25%                0.064930        0.250400                 0.071460   \n50%                0.099930        0.282200                 0.080040   \n75%                0.161400        0.317900                 0.092080   \nmax                0.291000        0.663800                 0.207500   \n\n       Unnamed: 32  \ncount          0.0  \nmean           NaN  \nstd            NaN  \nmin            NaN  \n25%            NaN  \n50%            NaN  \n75%            NaN  \nmax            NaN  \n\n[8 rows x 32 columns]",
      "text/html": "<div>\n<style scoped>\n    .dataframe tbody tr th:only-of-type {\n        vertical-align: middle;\n    }\n\n    .dataframe tbody tr th {\n        vertical-align: top;\n    }\n\n    .dataframe thead th {\n        text-align: right;\n    }\n</style>\n<table border=\"1\" class=\"dataframe\">\n  <thead>\n    <tr style=\"text-align: right;\">\n      <th></th>\n      <th>id</th>\n      <th>radius_mean</th>\n      <th>texture_mean</th>\n      <th>perimeter_mean</th>\n      <th>area_mean</th>\n      <th>smoothness_mean</th>\n      <th>compactness_mean</th>\n      <th>concavity_mean</th>\n      <th>concave points_mean</th>\n      <th>symmetry_mean</th>\n      <th>...</th>\n      <th>texture_worst</th>\n      <th>perimeter_worst</th>\n      <th>area_worst</th>\n      <th>smoothness_worst</th>\n      <th>compactness_worst</th>\n      <th>concavity_worst</th>\n      <th>concave points_worst</th>\n      <th>symmetry_worst</th>\n      <th>fractal_dimension_worst</th>\n      <th>Unnamed: 32</th>\n    </tr>\n  </thead>\n  <tbody>\n    <tr>\n      <th>count</th>\n      <td>5.690000e+02</td>\n      <td>569.000000</td>\n      <td>569.000000</td>\n      <td>569.000000</td>\n      <td>569.000000</td>\n      <td>569.000000</td>\n      <td>569.000000</td>\n      <td>569.000000</td>\n      <td>569.000000</td>\n      <td>569.000000</td>\n      <td>...</td>\n      <td>569.000000</td>\n      <td>569.000000</td>\n      <td>569.000000</td>\n      <td>569.000000</td>\n      <td>569.000000</td>\n      <td>569.000000</td>\n      <td>569.000000</td>\n      <td>569.000000</td>\n      <td>569.000000</td>\n      <td>0.0</td>\n    </tr>\n    <tr>\n      <th>mean</th>\n      <td>3.037183e+07</td>\n      <td>14.127292</td>\n      <td>19.289649</td>\n      <td>91.969033</td>\n      <td>654.889104</td>\n      <td>0.096360</td>\n      <td>0.104341</td>\n      <td>0.088799</td>\n      <td>0.048919</td>\n      <td>0.181162</td>\n      <td>...</td>\n      <td>25.677223</td>\n      <td>107.261213</td>\n      <td>880.583128</td>\n      <td>0.132369</td>\n      <td>0.254265</td>\n      <td>0.272188</td>\n      <td>0.114606</td>\n      <td>0.290076</td>\n      <td>0.083946</td>\n      <td>NaN</td>\n    </tr>\n    <tr>\n      <th>std</th>\n      <td>1.250206e+08</td>\n      <td>3.524049</td>\n      <td>4.301036</td>\n      <td>24.298981</td>\n      <td>351.914129</td>\n      <td>0.014064</td>\n      <td>0.052813</td>\n      <td>0.079720</td>\n      <td>0.038803</td>\n      <td>0.027414</td>\n      <td>...</td>\n      <td>6.146258</td>\n      <td>33.602542</td>\n      <td>569.356993</td>\n      <td>0.022832</td>\n      <td>0.157336</td>\n      <td>0.208624</td>\n      <td>0.065732</td>\n      <td>0.061867</td>\n      <td>0.018061</td>\n      <td>NaN</td>\n    </tr>\n    <tr>\n      <th>min</th>\n      <td>8.670000e+03</td>\n      <td>6.981000</td>\n      <td>9.710000</td>\n      <td>43.790000</td>\n      <td>143.500000</td>\n      <td>0.052630</td>\n      <td>0.019380</td>\n      <td>0.000000</td>\n      <td>0.000000</td>\n      <td>0.106000</td>\n      <td>...</td>\n      <td>12.020000</td>\n      <td>50.410000</td>\n      <td>185.200000</td>\n      <td>0.071170</td>\n      <td>0.027290</td>\n      <td>0.000000</td>\n      <td>0.000000</td>\n      <td>0.156500</td>\n      <td>0.055040</td>\n      <td>NaN</td>\n    </tr>\n    <tr>\n      <th>25%</th>\n      <td>8.692180e+05</td>\n      <td>11.700000</td>\n      <td>16.170000</td>\n      <td>75.170000</td>\n      <td>420.300000</td>\n      <td>0.086370</td>\n      <td>0.064920</td>\n      <td>0.029560</td>\n      <td>0.020310</td>\n      <td>0.161900</td>\n      <td>...</td>\n      <td>21.080000</td>\n      <td>84.110000</td>\n      <td>515.300000</td>\n      <td>0.116600</td>\n      <td>0.147200</td>\n      <td>0.114500</td>\n      <td>0.064930</td>\n      <td>0.250400</td>\n      <td>0.071460</td>\n      <td>NaN</td>\n    </tr>\n    <tr>\n      <th>50%</th>\n      <td>9.060240e+05</td>\n      <td>13.370000</td>\n      <td>18.840000</td>\n      <td>86.240000</td>\n      <td>551.100000</td>\n      <td>0.095870</td>\n      <td>0.092630</td>\n      <td>0.061540</td>\n      <td>0.033500</td>\n      <td>0.179200</td>\n      <td>...</td>\n      <td>25.410000</td>\n      <td>97.660000</td>\n      <td>686.500000</td>\n      <td>0.131300</td>\n      <td>0.211900</td>\n      <td>0.226700</td>\n      <td>0.099930</td>\n      <td>0.282200</td>\n      <td>0.080040</td>\n      <td>NaN</td>\n    </tr>\n    <tr>\n      <th>75%</th>\n      <td>8.813129e+06</td>\n      <td>15.780000</td>\n      <td>21.800000</td>\n      <td>104.100000</td>\n      <td>782.700000</td>\n      <td>0.105300</td>\n      <td>0.130400</td>\n      <td>0.130700</td>\n      <td>0.074000</td>\n      <td>0.195700</td>\n      <td>...</td>\n      <td>29.720000</td>\n      <td>125.400000</td>\n      <td>1084.000000</td>\n      <td>0.146000</td>\n      <td>0.339100</td>\n      <td>0.382900</td>\n      <td>0.161400</td>\n      <td>0.317900</td>\n      <td>0.092080</td>\n      <td>NaN</td>\n    </tr>\n    <tr>\n      <th>max</th>\n      <td>9.113205e+08</td>\n      <td>28.110000</td>\n      <td>39.280000</td>\n      <td>188.500000</td>\n      <td>2501.000000</td>\n      <td>0.163400</td>\n      <td>0.345400</td>\n      <td>0.426800</td>\n      <td>0.201200</td>\n      <td>0.304000</td>\n      <td>...</td>\n      <td>49.540000</td>\n      <td>251.200000</td>\n      <td>4254.000000</td>\n      <td>0.222600</td>\n      <td>1.058000</td>\n      <td>1.252000</td>\n      <td>0.291000</td>\n      <td>0.663800</td>\n      <td>0.207500</td>\n      <td>NaN</td>\n    </tr>\n  </tbody>\n</table>\n<p>8 rows × 32 columns</p>\n</div>"
     },
     "execution_count": 5,
     "metadata": {},
     "output_type": "execute_result"
    }
   ],
   "source": [
    "file.describe()"
   ]
  },
  {
   "cell_type": "code",
   "execution_count": 6,
   "metadata": {
    "ExecuteTime": {
     "start_time": "2023-05-01T10:58:29.511609Z",
     "end_time": "2023-05-01T10:58:29.540390Z"
    }
   },
   "outputs": [
    {
     "data": {
      "text/plain": "id                           0\ndiagnosis                    0\nradius_mean                  0\ntexture_mean                 0\nperimeter_mean               0\narea_mean                    0\nsmoothness_mean              0\ncompactness_mean             0\nconcavity_mean               0\nconcave points_mean          0\nsymmetry_mean                0\nfractal_dimension_mean       0\nradius_se                    0\ntexture_se                   0\nperimeter_se                 0\narea_se                      0\nsmoothness_se                0\ncompactness_se               0\nconcavity_se                 0\nconcave points_se            0\nsymmetry_se                  0\nfractal_dimension_se         0\nradius_worst                 0\ntexture_worst                0\nperimeter_worst              0\narea_worst                   0\nsmoothness_worst             0\ncompactness_worst            0\nconcavity_worst              0\nconcave points_worst         0\nsymmetry_worst               0\nfractal_dimension_worst      0\nUnnamed: 32                569\ndtype: int64"
     },
     "execution_count": 6,
     "metadata": {},
     "output_type": "execute_result"
    }
   ],
   "source": [
    "file.isnull().sum()"
   ]
  },
  {
   "attachments": {},
   "cell_type": "markdown",
   "metadata": {},
   "source": [
    "There are no missing values so there is no need to replace any of them. We should however remove the ``Unnamed: 32`` column seeing as it only contains any information, only null-values."
   ]
  },
  {
   "cell_type": "code",
   "execution_count": 7,
   "metadata": {
    "ExecuteTime": {
     "start_time": "2023-05-01T10:58:29.511895Z",
     "end_time": "2023-05-01T10:58:29.540722Z"
    }
   },
   "outputs": [
    {
     "data": {
      "text/plain": "           id diagnosis  radius_mean  texture_mean  perimeter_mean  area_mean   \n0      842302         M        17.99         10.38          122.80     1001.0  \\\n1      842517         M        20.57         17.77          132.90     1326.0   \n2    84300903         M        19.69         21.25          130.00     1203.0   \n3    84348301         M        11.42         20.38           77.58      386.1   \n4    84358402         M        20.29         14.34          135.10     1297.0   \n..        ...       ...          ...           ...             ...        ...   \n564    926424         M        21.56         22.39          142.00     1479.0   \n565    926682         M        20.13         28.25          131.20     1261.0   \n566    926954         M        16.60         28.08          108.30      858.1   \n567    927241         M        20.60         29.33          140.10     1265.0   \n568     92751         B         7.76         24.54           47.92      181.0   \n\n     smoothness_mean  compactness_mean  concavity_mean  concave points_mean   \n0            0.11840           0.27760         0.30010              0.14710  \\\n1            0.08474           0.07864         0.08690              0.07017   \n2            0.10960           0.15990         0.19740              0.12790   \n3            0.14250           0.28390         0.24140              0.10520   \n4            0.10030           0.13280         0.19800              0.10430   \n..               ...               ...             ...                  ...   \n564          0.11100           0.11590         0.24390              0.13890   \n565          0.09780           0.10340         0.14400              0.09791   \n566          0.08455           0.10230         0.09251              0.05302   \n567          0.11780           0.27700         0.35140              0.15200   \n568          0.05263           0.04362         0.00000              0.00000   \n\n     ...  radius_worst  texture_worst  perimeter_worst  area_worst   \n0    ...        25.380          17.33           184.60      2019.0  \\\n1    ...        24.990          23.41           158.80      1956.0   \n2    ...        23.570          25.53           152.50      1709.0   \n3    ...        14.910          26.50            98.87       567.7   \n4    ...        22.540          16.67           152.20      1575.0   \n..   ...           ...            ...              ...         ...   \n564  ...        25.450          26.40           166.10      2027.0   \n565  ...        23.690          38.25           155.00      1731.0   \n566  ...        18.980          34.12           126.70      1124.0   \n567  ...        25.740          39.42           184.60      1821.0   \n568  ...         9.456          30.37            59.16       268.6   \n\n     smoothness_worst  compactness_worst  concavity_worst   \n0             0.16220            0.66560           0.7119  \\\n1             0.12380            0.18660           0.2416   \n2             0.14440            0.42450           0.4504   \n3             0.20980            0.86630           0.6869   \n4             0.13740            0.20500           0.4000   \n..                ...                ...              ...   \n564           0.14100            0.21130           0.4107   \n565           0.11660            0.19220           0.3215   \n566           0.11390            0.30940           0.3403   \n567           0.16500            0.86810           0.9387   \n568           0.08996            0.06444           0.0000   \n\n     concave points_worst  symmetry_worst  fractal_dimension_worst  \n0                  0.2654          0.4601                  0.11890  \n1                  0.1860          0.2750                  0.08902  \n2                  0.2430          0.3613                  0.08758  \n3                  0.2575          0.6638                  0.17300  \n4                  0.1625          0.2364                  0.07678  \n..                    ...             ...                      ...  \n564                0.2216          0.2060                  0.07115  \n565                0.1628          0.2572                  0.06637  \n566                0.1418          0.2218                  0.07820  \n567                0.2650          0.4087                  0.12400  \n568                0.0000          0.2871                  0.07039  \n\n[569 rows x 32 columns]",
      "text/html": "<div>\n<style scoped>\n    .dataframe tbody tr th:only-of-type {\n        vertical-align: middle;\n    }\n\n    .dataframe tbody tr th {\n        vertical-align: top;\n    }\n\n    .dataframe thead th {\n        text-align: right;\n    }\n</style>\n<table border=\"1\" class=\"dataframe\">\n  <thead>\n    <tr style=\"text-align: right;\">\n      <th></th>\n      <th>id</th>\n      <th>diagnosis</th>\n      <th>radius_mean</th>\n      <th>texture_mean</th>\n      <th>perimeter_mean</th>\n      <th>area_mean</th>\n      <th>smoothness_mean</th>\n      <th>compactness_mean</th>\n      <th>concavity_mean</th>\n      <th>concave points_mean</th>\n      <th>...</th>\n      <th>radius_worst</th>\n      <th>texture_worst</th>\n      <th>perimeter_worst</th>\n      <th>area_worst</th>\n      <th>smoothness_worst</th>\n      <th>compactness_worst</th>\n      <th>concavity_worst</th>\n      <th>concave points_worst</th>\n      <th>symmetry_worst</th>\n      <th>fractal_dimension_worst</th>\n    </tr>\n  </thead>\n  <tbody>\n    <tr>\n      <th>0</th>\n      <td>842302</td>\n      <td>M</td>\n      <td>17.99</td>\n      <td>10.38</td>\n      <td>122.80</td>\n      <td>1001.0</td>\n      <td>0.11840</td>\n      <td>0.27760</td>\n      <td>0.30010</td>\n      <td>0.14710</td>\n      <td>...</td>\n      <td>25.380</td>\n      <td>17.33</td>\n      <td>184.60</td>\n      <td>2019.0</td>\n      <td>0.16220</td>\n      <td>0.66560</td>\n      <td>0.7119</td>\n      <td>0.2654</td>\n      <td>0.4601</td>\n      <td>0.11890</td>\n    </tr>\n    <tr>\n      <th>1</th>\n      <td>842517</td>\n      <td>M</td>\n      <td>20.57</td>\n      <td>17.77</td>\n      <td>132.90</td>\n      <td>1326.0</td>\n      <td>0.08474</td>\n      <td>0.07864</td>\n      <td>0.08690</td>\n      <td>0.07017</td>\n      <td>...</td>\n      <td>24.990</td>\n      <td>23.41</td>\n      <td>158.80</td>\n      <td>1956.0</td>\n      <td>0.12380</td>\n      <td>0.18660</td>\n      <td>0.2416</td>\n      <td>0.1860</td>\n      <td>0.2750</td>\n      <td>0.08902</td>\n    </tr>\n    <tr>\n      <th>2</th>\n      <td>84300903</td>\n      <td>M</td>\n      <td>19.69</td>\n      <td>21.25</td>\n      <td>130.00</td>\n      <td>1203.0</td>\n      <td>0.10960</td>\n      <td>0.15990</td>\n      <td>0.19740</td>\n      <td>0.12790</td>\n      <td>...</td>\n      <td>23.570</td>\n      <td>25.53</td>\n      <td>152.50</td>\n      <td>1709.0</td>\n      <td>0.14440</td>\n      <td>0.42450</td>\n      <td>0.4504</td>\n      <td>0.2430</td>\n      <td>0.3613</td>\n      <td>0.08758</td>\n    </tr>\n    <tr>\n      <th>3</th>\n      <td>84348301</td>\n      <td>M</td>\n      <td>11.42</td>\n      <td>20.38</td>\n      <td>77.58</td>\n      <td>386.1</td>\n      <td>0.14250</td>\n      <td>0.28390</td>\n      <td>0.24140</td>\n      <td>0.10520</td>\n      <td>...</td>\n      <td>14.910</td>\n      <td>26.50</td>\n      <td>98.87</td>\n      <td>567.7</td>\n      <td>0.20980</td>\n      <td>0.86630</td>\n      <td>0.6869</td>\n      <td>0.2575</td>\n      <td>0.6638</td>\n      <td>0.17300</td>\n    </tr>\n    <tr>\n      <th>4</th>\n      <td>84358402</td>\n      <td>M</td>\n      <td>20.29</td>\n      <td>14.34</td>\n      <td>135.10</td>\n      <td>1297.0</td>\n      <td>0.10030</td>\n      <td>0.13280</td>\n      <td>0.19800</td>\n      <td>0.10430</td>\n      <td>...</td>\n      <td>22.540</td>\n      <td>16.67</td>\n      <td>152.20</td>\n      <td>1575.0</td>\n      <td>0.13740</td>\n      <td>0.20500</td>\n      <td>0.4000</td>\n      <td>0.1625</td>\n      <td>0.2364</td>\n      <td>0.07678</td>\n    </tr>\n    <tr>\n      <th>...</th>\n      <td>...</td>\n      <td>...</td>\n      <td>...</td>\n      <td>...</td>\n      <td>...</td>\n      <td>...</td>\n      <td>...</td>\n      <td>...</td>\n      <td>...</td>\n      <td>...</td>\n      <td>...</td>\n      <td>...</td>\n      <td>...</td>\n      <td>...</td>\n      <td>...</td>\n      <td>...</td>\n      <td>...</td>\n      <td>...</td>\n      <td>...</td>\n      <td>...</td>\n      <td>...</td>\n    </tr>\n    <tr>\n      <th>564</th>\n      <td>926424</td>\n      <td>M</td>\n      <td>21.56</td>\n      <td>22.39</td>\n      <td>142.00</td>\n      <td>1479.0</td>\n      <td>0.11100</td>\n      <td>0.11590</td>\n      <td>0.24390</td>\n      <td>0.13890</td>\n      <td>...</td>\n      <td>25.450</td>\n      <td>26.40</td>\n      <td>166.10</td>\n      <td>2027.0</td>\n      <td>0.14100</td>\n      <td>0.21130</td>\n      <td>0.4107</td>\n      <td>0.2216</td>\n      <td>0.2060</td>\n      <td>0.07115</td>\n    </tr>\n    <tr>\n      <th>565</th>\n      <td>926682</td>\n      <td>M</td>\n      <td>20.13</td>\n      <td>28.25</td>\n      <td>131.20</td>\n      <td>1261.0</td>\n      <td>0.09780</td>\n      <td>0.10340</td>\n      <td>0.14400</td>\n      <td>0.09791</td>\n      <td>...</td>\n      <td>23.690</td>\n      <td>38.25</td>\n      <td>155.00</td>\n      <td>1731.0</td>\n      <td>0.11660</td>\n      <td>0.19220</td>\n      <td>0.3215</td>\n      <td>0.1628</td>\n      <td>0.2572</td>\n      <td>0.06637</td>\n    </tr>\n    <tr>\n      <th>566</th>\n      <td>926954</td>\n      <td>M</td>\n      <td>16.60</td>\n      <td>28.08</td>\n      <td>108.30</td>\n      <td>858.1</td>\n      <td>0.08455</td>\n      <td>0.10230</td>\n      <td>0.09251</td>\n      <td>0.05302</td>\n      <td>...</td>\n      <td>18.980</td>\n      <td>34.12</td>\n      <td>126.70</td>\n      <td>1124.0</td>\n      <td>0.11390</td>\n      <td>0.30940</td>\n      <td>0.3403</td>\n      <td>0.1418</td>\n      <td>0.2218</td>\n      <td>0.07820</td>\n    </tr>\n    <tr>\n      <th>567</th>\n      <td>927241</td>\n      <td>M</td>\n      <td>20.60</td>\n      <td>29.33</td>\n      <td>140.10</td>\n      <td>1265.0</td>\n      <td>0.11780</td>\n      <td>0.27700</td>\n      <td>0.35140</td>\n      <td>0.15200</td>\n      <td>...</td>\n      <td>25.740</td>\n      <td>39.42</td>\n      <td>184.60</td>\n      <td>1821.0</td>\n      <td>0.16500</td>\n      <td>0.86810</td>\n      <td>0.9387</td>\n      <td>0.2650</td>\n      <td>0.4087</td>\n      <td>0.12400</td>\n    </tr>\n    <tr>\n      <th>568</th>\n      <td>92751</td>\n      <td>B</td>\n      <td>7.76</td>\n      <td>24.54</td>\n      <td>47.92</td>\n      <td>181.0</td>\n      <td>0.05263</td>\n      <td>0.04362</td>\n      <td>0.00000</td>\n      <td>0.00000</td>\n      <td>...</td>\n      <td>9.456</td>\n      <td>30.37</td>\n      <td>59.16</td>\n      <td>268.6</td>\n      <td>0.08996</td>\n      <td>0.06444</td>\n      <td>0.0000</td>\n      <td>0.0000</td>\n      <td>0.2871</td>\n      <td>0.07039</td>\n    </tr>\n  </tbody>\n</table>\n<p>569 rows × 32 columns</p>\n</div>"
     },
     "execution_count": 7,
     "metadata": {},
     "output_type": "execute_result"
    }
   ],
   "source": [
    "file = file.drop(\"Unnamed: 32\", axis=1)\n",
    "file"
   ]
  },
  {
   "attachments": {},
   "cell_type": "markdown",
   "metadata": {},
   "source": [
    "Seeing as there are no other major operations to be done currently we may now process our values and analyze them."
   ]
  },
  {
   "attachments": {},
   "cell_type": "markdown",
   "metadata": {},
   "source": [
    "**2. Data processing and analysis**"
   ]
  },
  {
   "cell_type": "code",
   "execution_count": 8,
   "outputs": [
    {
     "data": {
      "text/plain": "           id  diagnosis  radius_mean  texture_mean  perimeter_mean   \n0      842302          1        17.99         10.38          122.80  \\\n1      842517          1        20.57         17.77          132.90   \n2    84300903          1        19.69         21.25          130.00   \n3    84348301          1        11.42         20.38           77.58   \n4    84358402          1        20.29         14.34          135.10   \n..        ...        ...          ...           ...             ...   \n564    926424          1        21.56         22.39          142.00   \n565    926682          1        20.13         28.25          131.20   \n566    926954          1        16.60         28.08          108.30   \n567    927241          1        20.60         29.33          140.10   \n568     92751          0         7.76         24.54           47.92   \n\n     area_mean  smoothness_mean  compactness_mean  concavity_mean   \n0       1001.0          0.11840           0.27760         0.30010  \\\n1       1326.0          0.08474           0.07864         0.08690   \n2       1203.0          0.10960           0.15990         0.19740   \n3        386.1          0.14250           0.28390         0.24140   \n4       1297.0          0.10030           0.13280         0.19800   \n..         ...              ...               ...             ...   \n564     1479.0          0.11100           0.11590         0.24390   \n565     1261.0          0.09780           0.10340         0.14400   \n566      858.1          0.08455           0.10230         0.09251   \n567     1265.0          0.11780           0.27700         0.35140   \n568      181.0          0.05263           0.04362         0.00000   \n\n     concave points_mean  ...  texture_worst  perimeter_worst  area_worst   \n0                0.14710  ...          17.33           184.60      2019.0  \\\n1                0.07017  ...          23.41           158.80      1956.0   \n2                0.12790  ...          25.53           152.50      1709.0   \n3                0.10520  ...          26.50            98.87       567.7   \n4                0.10430  ...          16.67           152.20      1575.0   \n..                   ...  ...            ...              ...         ...   \n564              0.13890  ...          26.40           166.10      2027.0   \n565              0.09791  ...          38.25           155.00      1731.0   \n566              0.05302  ...          34.12           126.70      1124.0   \n567              0.15200  ...          39.42           184.60      1821.0   \n568              0.00000  ...          30.37            59.16       268.6   \n\n     smoothness_worst  compactness_worst  concavity_worst   \n0             0.16220            0.66560           0.7119  \\\n1             0.12380            0.18660           0.2416   \n2             0.14440            0.42450           0.4504   \n3             0.20980            0.86630           0.6869   \n4             0.13740            0.20500           0.4000   \n..                ...                ...              ...   \n564           0.14100            0.21130           0.4107   \n565           0.11660            0.19220           0.3215   \n566           0.11390            0.30940           0.3403   \n567           0.16500            0.86810           0.9387   \n568           0.08996            0.06444           0.0000   \n\n     concave points_worst  symmetry_worst  fractal_dimension_worst   \n0                  0.2654          0.4601                  0.11890  \\\n1                  0.1860          0.2750                  0.08902   \n2                  0.2430          0.3613                  0.08758   \n3                  0.2575          0.6638                  0.17300   \n4                  0.1625          0.2364                  0.07678   \n..                    ...             ...                      ...   \n564                0.2216          0.2060                  0.07115   \n565                0.1628          0.2572                  0.06637   \n566                0.1418          0.2218                  0.07820   \n567                0.2650          0.4087                  0.12400   \n568                0.0000          0.2871                  0.07039   \n\n     Unnamed: 32  \n0            NaN  \n1            NaN  \n2            NaN  \n3            NaN  \n4            NaN  \n..           ...  \n564          NaN  \n565          NaN  \n566          NaN  \n567          NaN  \n568          NaN  \n\n[569 rows x 33 columns]",
      "text/html": "<div>\n<style scoped>\n    .dataframe tbody tr th:only-of-type {\n        vertical-align: middle;\n    }\n\n    .dataframe tbody tr th {\n        vertical-align: top;\n    }\n\n    .dataframe thead th {\n        text-align: right;\n    }\n</style>\n<table border=\"1\" class=\"dataframe\">\n  <thead>\n    <tr style=\"text-align: right;\">\n      <th></th>\n      <th>id</th>\n      <th>diagnosis</th>\n      <th>radius_mean</th>\n      <th>texture_mean</th>\n      <th>perimeter_mean</th>\n      <th>area_mean</th>\n      <th>smoothness_mean</th>\n      <th>compactness_mean</th>\n      <th>concavity_mean</th>\n      <th>concave points_mean</th>\n      <th>...</th>\n      <th>texture_worst</th>\n      <th>perimeter_worst</th>\n      <th>area_worst</th>\n      <th>smoothness_worst</th>\n      <th>compactness_worst</th>\n      <th>concavity_worst</th>\n      <th>concave points_worst</th>\n      <th>symmetry_worst</th>\n      <th>fractal_dimension_worst</th>\n      <th>Unnamed: 32</th>\n    </tr>\n  </thead>\n  <tbody>\n    <tr>\n      <th>0</th>\n      <td>842302</td>\n      <td>1</td>\n      <td>17.99</td>\n      <td>10.38</td>\n      <td>122.80</td>\n      <td>1001.0</td>\n      <td>0.11840</td>\n      <td>0.27760</td>\n      <td>0.30010</td>\n      <td>0.14710</td>\n      <td>...</td>\n      <td>17.33</td>\n      <td>184.60</td>\n      <td>2019.0</td>\n      <td>0.16220</td>\n      <td>0.66560</td>\n      <td>0.7119</td>\n      <td>0.2654</td>\n      <td>0.4601</td>\n      <td>0.11890</td>\n      <td>NaN</td>\n    </tr>\n    <tr>\n      <th>1</th>\n      <td>842517</td>\n      <td>1</td>\n      <td>20.57</td>\n      <td>17.77</td>\n      <td>132.90</td>\n      <td>1326.0</td>\n      <td>0.08474</td>\n      <td>0.07864</td>\n      <td>0.08690</td>\n      <td>0.07017</td>\n      <td>...</td>\n      <td>23.41</td>\n      <td>158.80</td>\n      <td>1956.0</td>\n      <td>0.12380</td>\n      <td>0.18660</td>\n      <td>0.2416</td>\n      <td>0.1860</td>\n      <td>0.2750</td>\n      <td>0.08902</td>\n      <td>NaN</td>\n    </tr>\n    <tr>\n      <th>2</th>\n      <td>84300903</td>\n      <td>1</td>\n      <td>19.69</td>\n      <td>21.25</td>\n      <td>130.00</td>\n      <td>1203.0</td>\n      <td>0.10960</td>\n      <td>0.15990</td>\n      <td>0.19740</td>\n      <td>0.12790</td>\n      <td>...</td>\n      <td>25.53</td>\n      <td>152.50</td>\n      <td>1709.0</td>\n      <td>0.14440</td>\n      <td>0.42450</td>\n      <td>0.4504</td>\n      <td>0.2430</td>\n      <td>0.3613</td>\n      <td>0.08758</td>\n      <td>NaN</td>\n    </tr>\n    <tr>\n      <th>3</th>\n      <td>84348301</td>\n      <td>1</td>\n      <td>11.42</td>\n      <td>20.38</td>\n      <td>77.58</td>\n      <td>386.1</td>\n      <td>0.14250</td>\n      <td>0.28390</td>\n      <td>0.24140</td>\n      <td>0.10520</td>\n      <td>...</td>\n      <td>26.50</td>\n      <td>98.87</td>\n      <td>567.7</td>\n      <td>0.20980</td>\n      <td>0.86630</td>\n      <td>0.6869</td>\n      <td>0.2575</td>\n      <td>0.6638</td>\n      <td>0.17300</td>\n      <td>NaN</td>\n    </tr>\n    <tr>\n      <th>4</th>\n      <td>84358402</td>\n      <td>1</td>\n      <td>20.29</td>\n      <td>14.34</td>\n      <td>135.10</td>\n      <td>1297.0</td>\n      <td>0.10030</td>\n      <td>0.13280</td>\n      <td>0.19800</td>\n      <td>0.10430</td>\n      <td>...</td>\n      <td>16.67</td>\n      <td>152.20</td>\n      <td>1575.0</td>\n      <td>0.13740</td>\n      <td>0.20500</td>\n      <td>0.4000</td>\n      <td>0.1625</td>\n      <td>0.2364</td>\n      <td>0.07678</td>\n      <td>NaN</td>\n    </tr>\n    <tr>\n      <th>...</th>\n      <td>...</td>\n      <td>...</td>\n      <td>...</td>\n      <td>...</td>\n      <td>...</td>\n      <td>...</td>\n      <td>...</td>\n      <td>...</td>\n      <td>...</td>\n      <td>...</td>\n      <td>...</td>\n      <td>...</td>\n      <td>...</td>\n      <td>...</td>\n      <td>...</td>\n      <td>...</td>\n      <td>...</td>\n      <td>...</td>\n      <td>...</td>\n      <td>...</td>\n      <td>...</td>\n    </tr>\n    <tr>\n      <th>564</th>\n      <td>926424</td>\n      <td>1</td>\n      <td>21.56</td>\n      <td>22.39</td>\n      <td>142.00</td>\n      <td>1479.0</td>\n      <td>0.11100</td>\n      <td>0.11590</td>\n      <td>0.24390</td>\n      <td>0.13890</td>\n      <td>...</td>\n      <td>26.40</td>\n      <td>166.10</td>\n      <td>2027.0</td>\n      <td>0.14100</td>\n      <td>0.21130</td>\n      <td>0.4107</td>\n      <td>0.2216</td>\n      <td>0.2060</td>\n      <td>0.07115</td>\n      <td>NaN</td>\n    </tr>\n    <tr>\n      <th>565</th>\n      <td>926682</td>\n      <td>1</td>\n      <td>20.13</td>\n      <td>28.25</td>\n      <td>131.20</td>\n      <td>1261.0</td>\n      <td>0.09780</td>\n      <td>0.10340</td>\n      <td>0.14400</td>\n      <td>0.09791</td>\n      <td>...</td>\n      <td>38.25</td>\n      <td>155.00</td>\n      <td>1731.0</td>\n      <td>0.11660</td>\n      <td>0.19220</td>\n      <td>0.3215</td>\n      <td>0.1628</td>\n      <td>0.2572</td>\n      <td>0.06637</td>\n      <td>NaN</td>\n    </tr>\n    <tr>\n      <th>566</th>\n      <td>926954</td>\n      <td>1</td>\n      <td>16.60</td>\n      <td>28.08</td>\n      <td>108.30</td>\n      <td>858.1</td>\n      <td>0.08455</td>\n      <td>0.10230</td>\n      <td>0.09251</td>\n      <td>0.05302</td>\n      <td>...</td>\n      <td>34.12</td>\n      <td>126.70</td>\n      <td>1124.0</td>\n      <td>0.11390</td>\n      <td>0.30940</td>\n      <td>0.3403</td>\n      <td>0.1418</td>\n      <td>0.2218</td>\n      <td>0.07820</td>\n      <td>NaN</td>\n    </tr>\n    <tr>\n      <th>567</th>\n      <td>927241</td>\n      <td>1</td>\n      <td>20.60</td>\n      <td>29.33</td>\n      <td>140.10</td>\n      <td>1265.0</td>\n      <td>0.11780</td>\n      <td>0.27700</td>\n      <td>0.35140</td>\n      <td>0.15200</td>\n      <td>...</td>\n      <td>39.42</td>\n      <td>184.60</td>\n      <td>1821.0</td>\n      <td>0.16500</td>\n      <td>0.86810</td>\n      <td>0.9387</td>\n      <td>0.2650</td>\n      <td>0.4087</td>\n      <td>0.12400</td>\n      <td>NaN</td>\n    </tr>\n    <tr>\n      <th>568</th>\n      <td>92751</td>\n      <td>0</td>\n      <td>7.76</td>\n      <td>24.54</td>\n      <td>47.92</td>\n      <td>181.0</td>\n      <td>0.05263</td>\n      <td>0.04362</td>\n      <td>0.00000</td>\n      <td>0.00000</td>\n      <td>...</td>\n      <td>30.37</td>\n      <td>59.16</td>\n      <td>268.6</td>\n      <td>0.08996</td>\n      <td>0.06444</td>\n      <td>0.0000</td>\n      <td>0.0000</td>\n      <td>0.2871</td>\n      <td>0.07039</td>\n      <td>NaN</td>\n    </tr>\n  </tbody>\n</table>\n<p>569 rows × 33 columns</p>\n</div>"
     },
     "execution_count": 8,
     "metadata": {},
     "output_type": "execute_result"
    }
   ],
   "source": [
    "from sklearn.preprocessing import LabelEncoder\n",
    "label = LabelEncoder()\n",
    "file['diagnosis'] = label.fit_transform(file['diagnosis'])\n",
    "file"
   ],
   "metadata": {
    "collapsed": false,
    "ExecuteTime": {
     "start_time": "2023-05-01T10:58:29.513227Z",
     "end_time": "2023-05-01T10:58:29.781011Z"
    }
   }
  },
  {
   "cell_type": "code",
   "execution_count": 9,
   "outputs": [
    {
     "name": "stdout",
     "output_type": "stream",
     "text": [
      "[  0   1   3   4   5   7   8  12  13  14  15  16  17  18  19  20  21  22\n",
      "  23  24  25  26  27  28  31  32  33  34  35  36  37  38  40  41  42  43\n",
      "  44  45  46  47  48  49  50  51  52  53  54  56  57  58  59  60  61  62\n",
      "  63  64  65  66  67  68  69  71  74  80  85  87  88  89  91  92  93  94\n",
      "  95  96  97  98  99 100 102 103 105 106 107 108 111 112 113 114 115 116\n",
      " 117 119 120 121 122 123 124 125 126 127 128 129 130 133 134 135 136 137\n",
      " 138 139 141 142 143 146 147 149 150 151 152 154 155 156 157 159 160 161\n",
      " 162 164 166 168 169 170 171 172 173 174 175 176 178 179 180 181 183 184\n",
      " 185 186 187 189 190 191 192 193 194 195 197 198 199 200 201 202 205 206\n",
      " 207 209 210 212 213 214 215 216 217 218 219 220 221 223 224 225 226 227\n",
      " 229 230 231 232 233 234 236 237 239 240 241 242 243 244 245 246 247 248\n",
      " 251 252 253 254 256 258 259 260 261 262 263 266 267 268 269 270 272 273\n",
      " 276 277 278 279 280 282 283 285 286 287 288 289 290 291 292 293 294 295\n",
      " 296 297 298 299 300 301 302 303 304 306 307 308 309 310 311 312 313 314\n",
      " 315 316 317 318 319 321 323 324 325 326 327 328 330 335 336 337 338 339\n",
      " 340 341 342 343 344 345 346 347 348 349 350 351 352 354 355 356 357 358\n",
      " 359 360 361 363 364 365 366 367 368 370 371 372 373 374 375 376 377 378\n",
      " 379 381 383 385 386 387 388 389 390 391 392 396 397 398 399 400 401 402\n",
      " 403 404 405 406 407 409 410 411 412 413 414 415 416 417 418 419 420 421\n",
      " 423 426 427 428 429 430 432 433 434 435 436 437 438 439 440 442 443 444\n",
      " 445 446 447 448 449 450 451 452 453 454 455 456 458 459 460 461 463 465\n",
      " 466 467 469 470 471 472 473 474 475 476 478 479 480 481 483 484 485 487\n",
      " 488 489 490 491 492 493 494 495 496 497 498 499 501 502 504 505 506 507\n",
      " 508 509 510 512 513 514 515 516 517 518 519 521 522 523 524 525 529 533\n",
      " 534 536 537 539 541 542 543 544 545 546 547 548 550 552 553 554 558 559\n",
      " 560 562 563 566 568]\n",
      "[  2   6   9  10  11  29  30  39  55  70  72  73  75  76  77  78  79  81\n",
      "  82  83  84  86  90 101 104 109 110 118 131 132 140 144 145 148 153 158\n",
      " 163 165 167 177 182 188 196 203 204 208 211 222 228 235 238 249 250 255\n",
      " 257 264 265 271 274 275 281 284 305 320 322 329 331 332 333 334 353 362\n",
      " 369 380 382 384 393 394 395 408 422 424 425 431 441 457 462 464 468 477\n",
      " 482 486 500 503 511 520 526 527 528 530 531 532 535 538 540 549 551 555\n",
      " 556 557 561 564 565 567]\n",
      "[  1   2   3   4   5   6   8   9  10  11  12  13  14  16  20  21  23  26\n",
      "  27  28  29  30  32  34  35  36  37  38  39  40  41  43  44  45  47  48\n",
      "  50  51  52  53  55  58  59  61  62  64  65  67  70  71  72  73  74  75\n",
      "  76  77  78  79  80  81  82  83  84  85  86  87  90  91  92  94  95  96\n",
      "  97  98  99 100 101 102 103 104 105 106 107 109 110 111 112 115 116 118\n",
      " 119 120 121 122 123 125 127 128 129 130 131 132 133 134 135 136 138 139\n",
      " 140 142 143 144 145 146 147 148 150 151 152 153 156 157 158 159 160 161\n",
      " 162 163 164 165 166 167 168 169 170 171 175 177 178 179 180 182 183 186\n",
      " 187 188 189 190 191 193 194 196 197 198 200 201 202 203 204 205 206 207\n",
      " 208 211 212 213 214 215 216 217 219 220 221 222 223 224 225 226 228 229\n",
      " 230 232 233 235 236 237 238 239 240 241 242 243 246 249 250 251 252 253\n",
      " 254 255 256 257 258 259 260 262 263 264 265 266 267 269 270 271 273 274\n",
      " 275 276 278 279 281 282 283 284 285 286 288 291 292 293 294 295 296 297\n",
      " 299 300 302 303 305 306 307 308 309 312 313 314 315 316 317 318 320 321\n",
      " 322 323 324 326 327 328 329 330 331 332 333 334 335 336 337 338 339 340\n",
      " 342 343 344 345 347 348 349 350 351 352 353 354 356 357 358 359 360 361\n",
      " 362 363 365 366 367 368 369 370 371 372 373 375 376 377 378 379 380 382\n",
      " 383 384 385 386 387 388 389 391 392 393 394 395 397 400 401 403 405 406\n",
      " 408 409 412 413 415 416 417 418 419 420 422 423 424 425 427 429 430 431\n",
      " 432 433 435 436 437 438 439 440 441 443 444 445 447 448 450 451 452 454\n",
      " 455 456 457 458 459 460 461 462 463 464 465 466 467 468 469 471 472 473\n",
      " 474 475 476 477 478 479 480 481 482 483 484 485 486 487 488 489 490 491\n",
      " 492 493 496 499 500 502 503 504 505 506 508 509 510 511 513 514 515 516\n",
      " 518 519 520 521 522 524 525 526 527 528 529 530 531 532 533 534 535 536\n",
      " 537 538 540 543 544 546 548 549 551 552 554 555 556 557 558 559 560 561\n",
      " 563 564 565 566 567]\n",
      "[  0   7  15  17  18  19  22  24  25  31  33  42  46  49  54  56  57  60\n",
      "  63  66  68  69  88  89  93 108 113 114 117 124 126 137 141 149 154 155\n",
      " 172 173 174 176 181 184 185 192 195 199 209 210 218 227 231 234 244 245\n",
      " 247 248 261 268 272 277 280 287 289 290 298 301 304 310 311 319 325 341\n",
      " 346 355 364 374 381 390 396 398 399 402 404 407 410 411 414 421 426 428\n",
      " 434 442 446 449 453 470 494 495 497 498 501 507 512 517 523 539 541 542\n",
      " 545 547 550 553 562 568]\n",
      "[  0   1   2   4   6   7   8   9  10  11  12  13  14  15  17  18  19  20\n",
      "  21  22  24  25  27  28  29  30  31  32  33  34  35  39  40  41  42  43\n",
      "  44  46  47  49  51  52  53  54  55  56  57  58  60  61  62  63  64  65\n",
      "  66  68  69  70  71  72  73  75  76  77  78  79  80  81  82  83  84  85\n",
      "  86  87  88  89  90  91  93  95  98  99 100 101 102 104 105 106 107 108\n",
      " 109 110 112 113 114 115 117 118 120 121 124 125 126 127 128 129 130 131\n",
      " 132 133 134 135 136 137 138 140 141 142 144 145 148 149 151 153 154 155\n",
      " 156 158 159 160 161 162 163 164 165 166 167 169 170 171 172 173 174 176\n",
      " 177 178 179 181 182 184 185 186 187 188 189 190 191 192 195 196 197 199\n",
      " 200 201 203 204 205 206 207 208 209 210 211 212 213 214 215 216 217 218\n",
      " 219 221 222 223 224 226 227 228 230 231 232 233 234 235 236 238 240 241\n",
      " 242 243 244 245 247 248 249 250 251 252 254 255 256 257 258 259 260 261\n",
      " 264 265 267 268 269 270 271 272 273 274 275 276 277 279 280 281 282 283\n",
      " 284 285 287 288 289 290 292 294 295 298 300 301 303 304 305 306 308 309\n",
      " 310 311 313 314 315 317 319 320 322 325 326 327 329 330 331 332 333 334\n",
      " 337 339 341 342 343 344 345 346 347 349 350 351 353 354 355 356 358 359\n",
      " 361 362 364 366 369 371 372 373 374 376 378 379 380 381 382 383 384 385\n",
      " 387 389 390 391 392 393 394 395 396 397 398 399 400 401 402 403 404 405\n",
      " 406 407 408 409 410 411 412 413 414 416 417 418 419 421 422 424 425 426\n",
      " 427 428 429 430 431 434 435 437 438 441 442 443 445 446 447 448 449 451\n",
      " 452 453 454 455 456 457 458 459 460 461 462 464 465 466 467 468 470 472\n",
      " 474 475 476 477 478 479 482 483 484 486 488 491 492 493 494 495 497 498\n",
      " 500 501 503 504 505 506 507 508 509 510 511 512 514 515 516 517 518 520\n",
      " 522 523 524 525 526 527 528 529 530 531 532 534 535 537 538 539 540 541\n",
      " 542 545 547 549 550 551 552 553 554 555 556 557 558 559 560 561 562 563\n",
      " 564 565 566 567 568]\n",
      "[  3   5  16  23  26  36  37  38  45  48  50  59  67  74  92  94  96  97\n",
      " 103 111 116 119 122 123 139 143 146 147 150 152 157 168 175 180 183 193\n",
      " 194 198 202 220 225 229 237 239 246 253 262 263 266 278 286 291 293 296\n",
      " 297 299 302 307 312 316 318 321 323 324 328 335 336 338 340 348 352 357\n",
      " 360 363 365 367 368 370 375 377 386 388 415 420 423 432 433 436 439 440\n",
      " 444 450 463 469 471 473 480 481 485 487 489 490 496 499 502 513 519 521\n",
      " 533 536 543 544 546 548]\n",
      "[  0   1   2   3   5   6   7   8   9  10  11  13  14  15  16  17  18  19\n",
      "  20  21  22  23  24  25  26  27  29  30  31  33  34  36  37  38  39  40\n",
      "  42  43  45  46  48  49  50  52  54  55  56  57  58  59  60  62  63  64\n",
      "  66  67  68  69  70  71  72  73  74  75  76  77  78  79  80  81  82  83\n",
      "  84  86  87  88  89  90  91  92  93  94  96  97  99 101 102 103 104 105\n",
      " 106 108 109 110 111 113 114 116 117 118 119 121 122 123 124 126 128 130\n",
      " 131 132 135 137 138 139 140 141 143 144 145 146 147 148 149 150 152 153\n",
      " 154 155 156 157 158 160 161 162 163 165 166 167 168 172 173 174 175 176\n",
      " 177 180 181 182 183 184 185 187 188 189 190 191 192 193 194 195 196 198\n",
      " 199 201 202 203 204 205 207 208 209 210 211 212 214 216 217 218 220 222\n",
      " 225 227 228 229 230 231 234 235 236 237 238 239 241 243 244 245 246 247\n",
      " 248 249 250 251 252 253 255 257 259 260 261 262 263 264 265 266 268 269\n",
      " 270 271 272 273 274 275 276 277 278 279 280 281 284 286 287 288 289 290\n",
      " 291 293 295 296 297 298 299 300 301 302 303 304 305 307 308 309 310 311\n",
      " 312 313 315 316 318 319 320 321 322 323 324 325 326 328 329 330 331 332\n",
      " 333 334 335 336 337 338 339 340 341 343 344 345 346 348 350 352 353 355\n",
      " 357 360 362 363 364 365 366 367 368 369 370 372 374 375 377 378 379 380\n",
      " 381 382 384 385 386 387 388 389 390 391 393 394 395 396 398 399 401 402\n",
      " 404 407 408 409 410 411 413 414 415 418 420 421 422 423 424 425 426 427\n",
      " 428 431 432 433 434 435 436 439 440 441 442 444 445 446 449 450 453 454\n",
      " 455 457 458 459 461 462 463 464 466 468 469 470 471 473 474 475 476 477\n",
      " 478 480 481 482 483 484 485 486 487 489 490 491 493 494 495 496 497 498\n",
      " 499 500 501 502 503 504 507 508 510 511 512 513 516 517 519 520 521 522\n",
      " 523 526 527 528 529 530 531 532 533 535 536 537 538 539 540 541 542 543\n",
      " 544 545 546 547 548 549 550 551 552 553 554 555 556 557 560 561 562 563\n",
      " 564 565 566 567 568]\n",
      "[  4  12  28  32  35  41  44  47  51  53  61  65  85  95  98 100 107 112\n",
      " 115 120 125 127 129 133 134 136 142 151 159 164 169 170 171 178 179 186\n",
      " 197 200 206 213 215 219 221 223 224 226 232 233 240 242 254 256 258 267\n",
      " 282 283 285 292 294 306 314 317 327 342 347 349 351 354 356 358 359 361\n",
      " 371 373 376 383 392 397 400 403 405 406 412 416 417 419 429 430 437 438\n",
      " 443 447 448 451 452 456 460 465 467 472 479 488 492 505 506 509 514 515\n",
      " 518 524 525 534 558 559]\n",
      "[  0   2   3   4   5   6   7   9  10  11  12  15  16  17  18  19  22  23\n",
      "  24  25  26  28  29  30  31  32  33  35  36  37  38  39  41  42  44  45\n",
      "  46  47  48  49  50  51  53  54  55  56  57  59  60  61  63  65  66  67\n",
      "  68  69  70  72  73  74  75  76  77  78  79  81  82  83  84  85  86  88\n",
      "  89  90  92  93  94  95  96  97  98 100 101 103 104 107 108 109 110 111\n",
      " 112 113 114 115 116 117 118 119 120 122 123 124 125 126 127 129 131 132\n",
      " 133 134 136 137 139 140 141 142 143 144 145 146 147 148 149 150 151 152\n",
      " 153 154 155 157 158 159 163 164 165 167 168 169 170 171 172 173 174 175\n",
      " 176 177 178 179 180 181 182 183 184 185 186 188 192 193 194 195 196 197\n",
      " 198 199 200 202 203 204 206 208 209 210 211 213 215 218 219 220 221 222\n",
      " 223 224 225 226 227 228 229 231 232 233 234 235 237 238 239 240 242 244\n",
      " 245 246 247 248 249 250 253 254 255 256 257 258 261 262 263 264 265 266\n",
      " 267 268 271 272 274 275 277 278 280 281 282 283 284 285 286 287 289 290\n",
      " 291 292 293 294 296 297 298 299 301 302 304 305 306 307 310 311 312 314\n",
      " 316 317 318 319 320 321 322 323 324 325 327 328 329 331 332 333 334 335\n",
      " 336 338 340 341 342 346 347 348 349 351 352 353 354 355 356 357 358 359\n",
      " 360 361 362 363 364 365 367 368 369 370 371 373 374 375 376 377 380 381\n",
      " 382 383 384 386 388 390 392 393 394 395 396 397 398 399 400 402 403 404\n",
      " 405 406 407 408 410 411 412 414 415 416 417 419 420 421 422 423 424 425\n",
      " 426 428 429 430 431 432 433 434 436 437 438 439 440 441 442 443 444 446\n",
      " 447 448 449 450 451 452 453 456 457 460 462 463 464 465 467 468 469 470\n",
      " 471 472 473 477 479 480 481 482 485 486 487 488 489 490 492 494 495 496\n",
      " 497 498 499 500 501 502 503 505 506 507 509 511 512 513 514 515 517 518\n",
      " 519 520 521 523 524 525 526 527 528 530 531 532 533 534 535 536 538 539\n",
      " 540 541 542 543 544 545 546 547 548 549 550 551 553 555 556 557 558 559\n",
      " 561 562 564 565 567 568]\n",
      "[  1   8  13  14  20  21  27  34  40  43  52  58  62  64  71  80  87  91\n",
      "  99 102 105 106 121 128 130 135 138 156 160 161 162 166 187 189 190 191\n",
      " 201 205 207 212 214 216 217 230 236 241 243 251 252 259 260 269 270 273\n",
      " 276 279 288 295 300 303 308 309 313 315 326 330 337 339 343 344 345 350\n",
      " 366 372 378 379 385 387 389 391 401 409 413 418 427 435 445 454 455 458\n",
      " 459 461 466 474 475 476 478 483 484 491 493 504 508 510 516 522 529 537\n",
      " 552 554 560 563 566]\n"
     ]
    }
   ],
   "source": [
    "from sklearn.model_selection import KFold\n",
    "kf = KFold(n_splits=5, shuffle = True, random_state = 42)\n",
    "for train_index, test_index in kf.split(file):\n",
    "    print(train_index)\n",
    "    print(test_index)"
   ],
   "metadata": {
    "collapsed": false,
    "ExecuteTime": {
     "start_time": "2023-05-01T11:04:15.201080Z",
     "end_time": "2023-05-01T11:04:15.248326Z"
    }
   }
  },
  {
   "cell_type": "code",
   "execution_count": null,
   "outputs": [],
   "source": [],
   "metadata": {
    "collapsed": false
   }
  }
 ],
 "metadata": {
  "kernelspec": {
   "name": "base",
   "language": "python",
   "display_name": "Python (base)"
  },
  "language_info": {
   "codemirror_mode": {
    "name": "ipython",
    "version": 3
   },
   "file_extension": ".py",
   "mimetype": "text/x-python",
   "name": "python",
   "nbconvert_exporter": "python",
   "pygments_lexer": "ipython3",
   "version": "3.9.4"
  },
  "orig_nbformat": 4
 },
 "nbformat": 4,
 "nbformat_minor": 2
}
